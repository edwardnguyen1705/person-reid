{
 "cells": [
  {
   "cell_type": "code",
   "execution_count": 1,
   "metadata": {},
   "outputs": [
    {
     "name": "stdout",
     "output_type": "stream",
     "text": [
      "/home/hien/Documents/models/reid/person_reid\n"
     ]
    }
   ],
   "source": [
    "%cd .."
   ]
  },
  {
   "cell_type": "code",
   "execution_count": 2,
   "metadata": {},
   "outputs": [
    {
     "data": {
      "text/plain": [
       "(tensor([[0.6412, 0.0702, 0.7688, 0.4587],\n",
       "         [0.8049, 0.3255, 0.8375, 0.1489],\n",
       "         [0.3559, 0.9747, 0.6264, 0.9222],\n",
       "         [0.4555, 0.9372, 0.8192, 0.9561],\n",
       "         [0.6587, 0.6458, 0.2381, 0.2820]]),\n",
       " tensor([[0.5811, 0.0636, 0.6968, 0.4157],\n",
       "         [0.6622, 0.2678, 0.6890, 0.1225],\n",
       "         [0.2337, 0.6400, 0.4113, 0.6055],\n",
       "         [0.2787, 0.5734, 0.5013, 0.5850],\n",
       "         [0.6630, 0.6500, 0.2396, 0.2838]]))"
      ]
     },
     "execution_count": 2,
     "metadata": {},
     "output_type": "execute_result"
    }
   ],
   "source": [
    "import torch\n",
    "\n",
    "embeddings = torch.rand((5, 4))\n",
    "\n",
    "embeddings_norm = torch.nn.functional.normalize(embeddings, p=2, dim=1)\n",
    "embeddings, embeddings_norm\n"
   ]
  },
  {
   "cell_type": "code",
   "execution_count": 3,
   "metadata": {},
   "outputs": [
    {
     "name": "stdout",
     "output_type": "stream",
     "text": [
      "No module named 'metrics.rank_cylib.rank_cy'\n",
      "No module named 'metrics.rank_cylib.rank_cy'\n"
     ]
    },
    {
     "name": "stderr",
     "output_type": "stream",
     "text": [
      "/home/hien/Documents/models/reid/person_reid/src/metrics/../metrics/mAP.py:17: UserWarning: Cython rank evaluation (very fast so highly recommended) is unavailable, now use python evaluation.\n",
      "  \"Cython rank evaluation (very fast so highly recommended) is \"\n",
      "/home/hien/Documents/models/reid/person_reid/src/metrics/mAP.py:17: UserWarning: Cython rank evaluation (very fast so highly recommended) is unavailable, now use python evaluation.\n",
      "  \"Cython rank evaluation (very fast so highly recommended) is \"\n"
     ]
    },
    {
     "data": {
      "text/plain": [
       "(tensor([[0.0000, 0.1927, 1.1346, 1.0361, 0.6445],\n",
       "         [0.1927, 0.0000, 1.2656, 1.1481, 0.5009],\n",
       "         [1.1346, 1.2656, 0.0000, 0.0497, 0.7605],\n",
       "         [1.0361, 1.1481, 0.0497, 0.0000, 0.9184],\n",
       "         [0.6445, 0.5009, 0.7605, 0.9184, 0.0000]]),\n",
       " tensor([[0.0000e+00, 1.3431e-01, 5.7044e-01, 4.1824e-01, 5.7691e-01],\n",
       "         [1.3431e-01, 0.0000e+00, 6.3259e-01, 4.8964e-01, 3.7399e-01],\n",
       "         [5.7044e-01, 6.3259e-01, 2.3842e-07, 1.4974e-02, 3.1738e-01],\n",
       "         [4.1824e-01, 4.8964e-01, 1.4974e-02, 0.0000e+00, 3.1271e-01],\n",
       "         [5.7691e-01, 3.7399e-01, 3.1738e-01, 3.1271e-01, 0.0000e+00]]))"
      ]
     },
     "execution_count": 3,
     "metadata": {},
     "output_type": "execute_result"
    }
   ],
   "source": [
    "from src.metrics import self_cosine_dist, self_euclidean_dist\n",
    "\n",
    "self_euclidean_dist(embeddings), self_euclidean_dist(embeddings_norm)\n",
    "# Not-same\n"
   ]
  },
  {
   "cell_type": "code",
   "execution_count": 4,
   "metadata": {},
   "outputs": [
    {
     "data": {
      "text/plain": [
       "(tensor([[ 0.0000e+00,  6.7157e-02,  2.8522e-01,  2.0912e-01,  2.8845e-01],\n",
       "         [ 6.7157e-02,  0.0000e+00,  3.1629e-01,  2.4482e-01,  1.8699e-01],\n",
       "         [ 2.8522e-01,  3.1629e-01,  0.0000e+00,  7.4868e-03,  1.5869e-01],\n",
       "         [ 2.0912e-01,  2.4482e-01,  7.4868e-03,  1.1921e-07,  1.5635e-01],\n",
       "         [ 2.8845e-01,  1.8699e-01,  1.5869e-01,  1.5635e-01, -1.1921e-07]]),\n",
       " tensor([[ 0.0000e+00,  6.7157e-02,  2.8522e-01,  2.0912e-01,  2.8845e-01],\n",
       "         [ 6.7157e-02,  0.0000e+00,  3.1629e-01,  2.4482e-01,  1.8699e-01],\n",
       "         [ 2.8522e-01,  3.1629e-01,  0.0000e+00,  7.4868e-03,  1.5869e-01],\n",
       "         [ 2.0912e-01,  2.4482e-01,  7.4868e-03, -1.1921e-07,  1.5635e-01],\n",
       "         [ 2.8845e-01,  1.8699e-01,  1.5869e-01,  1.5635e-01, -1.1921e-07]]))"
      ]
     },
     "execution_count": 4,
     "metadata": {},
     "output_type": "execute_result"
    }
   ],
   "source": [
    "self_cosine_dist(embeddings), self_cosine_dist(embeddings_norm)\n",
    "# Same\n"
   ]
  },
  {
   "cell_type": "code",
   "execution_count": null,
   "metadata": {},
   "outputs": [],
   "source": []
  },
  {
   "cell_type": "code",
   "execution_count": 5,
   "metadata": {},
   "outputs": [
    {
     "data": {
      "text/plain": [
       "torch.Size([100])"
      ]
     },
     "execution_count": 5,
     "metadata": {},
     "output_type": "execute_result"
    }
   ],
   "source": [
    "import torch\n",
    "import torch.nn as nn\n",
    "import torch.nn.functional as F\n",
    "\n",
    "pdist = nn.PairwiseDistance(p=2)\n",
    "\n",
    "input1 = torch.randn(100, 128)\n",
    "input2 = torch.randn(100, 128)\n",
    "output = pdist(input1, input2)\n",
    "output.shape\n"
   ]
  },
  {
   "cell_type": "code",
   "execution_count": 6,
   "metadata": {},
   "outputs": [],
   "source": [
    "input1 = torch.randn(100, 128) * 100\n",
    "input2 = torch.randn(100, 128) * 100\n"
   ]
  },
  {
   "cell_type": "code",
   "execution_count": 7,
   "metadata": {},
   "outputs": [],
   "source": [
    "input1 = torch.nn.functional.normalize(input1, dim=1)\n"
   ]
  },
  {
   "cell_type": "code",
   "execution_count": 8,
   "metadata": {},
   "outputs": [
    {
     "data": {
      "text/plain": [
       "tensor(1.3984)"
      ]
     },
     "execution_count": 8,
     "metadata": {},
     "output_type": "execute_result"
    }
   ],
   "source": [
    "import torch\n",
    "import torch.nn as nn\n",
    "\n",
    "output = torch.cdist(input1, input1)\n",
    "output.mean()\n"
   ]
  },
  {
   "cell_type": "code",
   "execution_count": 9,
   "metadata": {},
   "outputs": [
    {
     "data": {
      "text/plain": [
       "tensor(0.0104)"
      ]
     },
     "execution_count": 9,
     "metadata": {},
     "output_type": "execute_result"
    }
   ],
   "source": [
    "dist_mat = torch.matmul(input1, input1.t())\n",
    "dist_mat.mean()\n"
   ]
  },
  {
   "cell_type": "code",
   "execution_count": 10,
   "metadata": {},
   "outputs": [],
   "source": [
    "def euclidean_dist(x, y):\n",
    "    m, n = x.size(0), y.size(0)\n",
    "    xx = torch.pow(x, 2).sum(1, keepdim=True).expand(m, n)\n",
    "    yy = torch.pow(y, 2).sum(1, keepdim=True).expand(n, m).t()\n",
    "    dist = xx + yy - 2 * torch.matmul(x, y.t())\n",
    "    dist = dist.sqrt()  # for numerical stability\n",
    "    return dist\n"
   ]
  },
  {
   "cell_type": "code",
   "execution_count": 11,
   "metadata": {},
   "outputs": [
    {
     "data": {
      "text/plain": [
       "tensor(1594.9022)"
      ]
     },
     "execution_count": 11,
     "metadata": {},
     "output_type": "execute_result"
    }
   ],
   "source": [
    "import torch\n",
    "import torch.nn as nn\n",
    "\n",
    "input1 = torch.randn(100, 128) * 100\n",
    "input2 = torch.randn(100, 128) * 100\n",
    "output = euclidean_dist(input1, input2)\n",
    "output.mean()\n"
   ]
  },
  {
   "cell_type": "code",
   "execution_count": 12,
   "metadata": {},
   "outputs": [
    {
     "data": {
      "text/plain": [
       "torch.Size([100])"
      ]
     },
     "execution_count": 12,
     "metadata": {},
     "output_type": "execute_result"
    }
   ],
   "source": [
    "import torch\n",
    "import torch.nn as nn\n",
    "\n",
    "input1 = torch.randn(100, 128) * 100\n",
    "input2 = torch.randn(100, 128) * 100\n",
    "output = F.cosine_similarity(input1, input2)\n",
    "output.shape\n"
   ]
  },
  {
   "cell_type": "code",
   "execution_count": 13,
   "metadata": {},
   "outputs": [],
   "source": [
    "import torch\n",
    "\n",
    "\n",
    "def euclidean_dist(x, y):\n",
    "    m, n = x.size(0), y.size(0)\n",
    "    xx = torch.pow(x, 2).sum(1, keepdim=True).expand(m, n)\n",
    "    yy = torch.pow(y, 2).sum(1, keepdim=True).expand(n, m).t()\n",
    "    dist = xx + yy - 2 * torch.matmul(x, y.t())\n",
    "    dist = dist.clamp(min=1e-12).sqrt()  # for numerical stability\n",
    "    return dist\n"
   ]
  },
  {
   "cell_type": "code",
   "execution_count": 14,
   "metadata": {},
   "outputs": [
    {
     "data": {
      "text/plain": [
       "tensor(15.8767)"
      ]
     },
     "execution_count": 14,
     "metadata": {},
     "output_type": "execute_result"
    }
   ],
   "source": [
    "input1 = torch.randn(100, 128)\n",
    "euclidean_dist(input1, input1).mean()\n"
   ]
  },
  {
   "cell_type": "code",
   "execution_count": 15,
   "metadata": {},
   "outputs": [
    {
     "data": {
      "text/plain": [
       "tensor(15.8767)"
      ]
     },
     "execution_count": 15,
     "metadata": {},
     "output_type": "execute_result"
    }
   ],
   "source": [
    "torch.cdist(input1, input1).mean()\n"
   ]
  },
  {
   "cell_type": "code",
   "execution_count": 16,
   "metadata": {},
   "outputs": [
    {
     "data": {
      "text/plain": [
       "tensor(15.8767)"
      ]
     },
     "execution_count": 16,
     "metadata": {},
     "output_type": "execute_result"
    }
   ],
   "source": [
    "n = input1.shape[0]\n",
    "# Compute pairwise distance, replace by the official when merged\n",
    "# ||a-b||^2 = ||a||^2 -2<a,b> + ||b||^2\n",
    "dist = torch.pow(input1, 2).sum(dim=1, keepdim=True).expand(n, n)\n",
    "dist = dist + dist.t()\n",
    "# dist.addmm_(1, -2, inputs, inputs.t())\n",
    "dist = torch.addmm(input=dist, mat1=input1, mat2=input1.t(), alpha=-2, beta=1)\n",
    "dist = dist.clamp(min=1e-12).sqrt()  # for numerical stability\n",
    "\n",
    "dist.mean()\n"
   ]
  },
  {
   "cell_type": "markdown",
   "metadata": {},
   "source": [
    "# Hamming distance"
   ]
  },
  {
   "cell_type": "code",
   "execution_count": 46,
   "metadata": {},
   "outputs": [],
   "source": [
    "target = torch.tensor([[0, 1, 0, 1, 1]])\n",
    "preds = torch.tensor([[1, 0, 0, 1, 0]])"
   ]
  },
  {
   "cell_type": "code",
   "execution_count": 47,
   "metadata": {},
   "outputs": [
    {
     "data": {
      "text/plain": [
       "tensor([[ 1., -1., -1.,  1., -1.]])"
      ]
     },
     "execution_count": 47,
     "metadata": {},
     "output_type": "execute_result"
    }
   ],
   "source": [
    "dim = preds.shape[1]\n",
    "\n",
    "x = (preds - 0.5) * 2\n",
    "x\n"
   ]
  },
  {
   "cell_type": "code",
   "execution_count": 48,
   "metadata": {},
   "outputs": [
    {
     "data": {
      "text/plain": [
       "tensor([[-1.,  1., -1.,  1.,  1.]])"
      ]
     },
     "execution_count": 48,
     "metadata": {},
     "output_type": "execute_result"
    }
   ],
   "source": [
    "y = (target - 0.5) * 2\n",
    "y\n"
   ]
  },
  {
   "cell_type": "markdown",
   "metadata": {},
   "source": [
    "- gn: Số lượng điểm giống nhau giữa hai vector\n",
    "- kn: Số lượng điểm khác nhau giữa hai vector"
   ]
  },
  {
   "cell_type": "code",
   "execution_count": 50,
   "metadata": {},
   "outputs": [
    {
     "data": {
      "text/plain": [
       "tensor([[-1.]])"
      ]
     },
     "execution_count": 50,
     "metadata": {},
     "output_type": "execute_result"
    }
   ],
   "source": [
    "torch.mm(x, y.t())\n",
    "# = gn - kn\n"
   ]
  },
  {
   "cell_type": "code",
   "execution_count": 51,
   "metadata": {},
   "outputs": [
    {
     "data": {
      "text/plain": [
       "tensor([[4.]])"
      ]
     },
     "execution_count": 51,
     "metadata": {},
     "output_type": "execute_result"
    }
   ],
   "source": [
    "torch.mm(x, y.t()) + dim\n",
    "# (gn - kn) + (gn + kn) = 2gn\n"
   ]
  },
  {
   "cell_type": "code",
   "execution_count": 52,
   "metadata": {},
   "outputs": [
    {
     "data": {
      "text/plain": [
       "tensor([[2.]])"
      ]
     },
     "execution_count": 52,
     "metadata": {},
     "output_type": "execute_result"
    }
   ],
   "source": [
    "(torch.mm(x, y.t()) + dim) / 2\n",
    "# (gn - kn + gn + kn) = (2gn) / 2\n"
   ]
  },
  {
   "cell_type": "code",
   "execution_count": 54,
   "metadata": {},
   "outputs": [
    {
     "data": {
      "text/plain": [
       "tensor([[3.]])"
      ]
     },
     "execution_count": 54,
     "metadata": {},
     "output_type": "execute_result"
    }
   ],
   "source": [
    "dim - (torch.mm(x, y.t()) + dim) / 2\n",
    "# (gn + kn) - (gn) = kn\n"
   ]
  },
  {
   "cell_type": "code",
   "execution_count": null,
   "metadata": {},
   "outputs": [],
   "source": []
  }
 ],
 "metadata": {
  "interpreter": {
   "hash": "7c7a76c8265d47c17d5818f4f3eec0ba94be384b7470e37644b3c2ac337fea0b"
  },
  "kernelspec": {
   "display_name": "Python 3.8.9 64-bit ('rep_reid': pyenv)",
   "name": "python3"
  },
  "language_info": {
   "codemirror_mode": {
    "name": "ipython",
    "version": 3
   },
   "file_extension": ".py",
   "mimetype": "text/x-python",
   "name": "python",
   "nbconvert_exporter": "python",
   "pygments_lexer": "ipython3",
   "version": "3.7.9"
  },
  "orig_nbformat": 2
 },
 "nbformat": 4,
 "nbformat_minor": 2
}
