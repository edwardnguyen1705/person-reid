{
 "cells": [
  {
   "cell_type": "code",
   "execution_count": 1,
   "metadata": {},
   "outputs": [
    {
     "name": "stdout",
     "output_type": "stream",
     "text": [
      "/home/hien/Documents/models/reid/rep_reid\n"
     ]
    }
   ],
   "source": [
    "%cd .."
   ]
  },
  {
   "cell_type": "code",
   "execution_count": 2,
   "metadata": {},
   "outputs": [
    {
     "data": {
      "text/plain": [
       "(tensor([[0.4158, 0.8490, 0.2749, 0.0218],\n",
       "         [0.9741, 0.6428, 0.2425, 0.1630],\n",
       "         [0.1165, 0.3331, 0.5887, 0.0424],\n",
       "         [0.2851, 0.1925, 0.3518, 0.3293],\n",
       "         [0.1848, 0.1419, 0.7527, 0.5218]]),\n",
       " tensor([[0.4222, 0.8621, 0.2792, 0.0222],\n",
       "         [0.8097, 0.5343, 0.2015, 0.1355],\n",
       "         [0.1694, 0.4844, 0.8561, 0.0616],\n",
       "         [0.4815, 0.3252, 0.5942, 0.5562],\n",
       "         [0.1955, 0.1502, 0.7964, 0.5522]]))"
      ]
     },
     "execution_count": 2,
     "metadata": {},
     "output_type": "execute_result"
    }
   ],
   "source": [
    "import torch\n",
    "\n",
    "embeddings = torch.rand((5, 4))\n",
    "\n",
    "embeddings_norm = torch.nn.functional.normalize(embeddings, p=2, dim=1)\n",
    "embeddings, embeddings_norm\n"
   ]
  },
  {
   "cell_type": "code",
   "execution_count": 3,
   "metadata": {},
   "outputs": [
    {
     "data": {
      "text/plain": [
       "(tensor([[0.0000e+00, 3.7522e-01, 4.5452e-01, 5.4846e-01, 1.0315e+00],\n",
       "         [3.7522e-01, 0.0000e+00, 9.6574e-01, 7.1710e-01, 1.2629e+00],\n",
       "         [4.5452e-01, 9.6574e-01, 0.0000e+00, 1.8663e-01, 2.9798e-01],\n",
       "         [5.4846e-01, 7.1710e-01, 1.8663e-01, 5.9605e-08, 2.1042e-01],\n",
       "         [1.0315e+00, 1.2629e+00, 2.9798e-01, 2.1042e-01, 0.0000e+00]]),\n",
       " tensor([[ 0.0000e+00,  2.7647e-01,  5.4089e-01,  6.7626e-01,  1.1067e+00],\n",
       "         [ 2.7647e-01,  0.0000e+00,  8.4621e-01,  4.8256e-01,  1.0522e+00],\n",
       "         [ 5.4089e-01,  8.4621e-01,  1.1921e-07,  4.3593e-01,  3.5658e-01],\n",
       "         [ 6.7626e-01,  4.8256e-01,  4.3593e-01,  0.0000e+00,  1.5334e-01],\n",
       "         [ 1.1067e+00,  1.0522e+00,  3.5658e-01,  1.5334e-01, -1.1921e-07]]))"
      ]
     },
     "execution_count": 3,
     "metadata": {},
     "output_type": "execute_result"
    }
   ],
   "source": [
    "from src.metrics import self_cosine_dist, self_euclidean_dist\n",
    "\n",
    "self_euclidean_dist(embeddings), self_euclidean_dist(embeddings_norm)\n",
    "# Not-same"
   ]
  },
  {
   "cell_type": "code",
   "execution_count": 5,
   "metadata": {},
   "outputs": [
    {
     "data": {
      "text/plain": [
       "(tensor([[5.9605e-08, 1.3824e-01, 2.7045e-01, 3.3813e-01, 5.5337e-01],\n",
       "         [1.3824e-01, 0.0000e+00, 4.2311e-01, 2.4128e-01, 5.2611e-01],\n",
       "         [2.7045e-01, 4.2311e-01, 1.1921e-07, 2.1796e-01, 1.7829e-01],\n",
       "         [3.3813e-01, 2.4128e-01, 2.1796e-01, 0.0000e+00, 7.6668e-02],\n",
       "         [5.5337e-01, 5.2611e-01, 1.7829e-01, 7.6668e-02, 5.9605e-08]]),\n",
       " tensor([[ 0.0000e+00,  1.3824e-01,  2.7045e-01,  3.3813e-01,  5.5337e-01],\n",
       "         [ 1.3824e-01,  0.0000e+00,  4.2311e-01,  2.4128e-01,  5.2611e-01],\n",
       "         [ 2.7045e-01,  4.2311e-01,  0.0000e+00,  2.1796e-01,  1.7829e-01],\n",
       "         [ 3.3813e-01,  2.4128e-01,  2.1796e-01,  0.0000e+00,  7.6668e-02],\n",
       "         [ 5.5337e-01,  5.2611e-01,  1.7829e-01,  7.6668e-02, -1.1921e-07]]))"
      ]
     },
     "execution_count": 5,
     "metadata": {},
     "output_type": "execute_result"
    }
   ],
   "source": [
    "self_cosine_dist(embeddings), self_cosine_dist(embeddings_norm)\n",
    "# Same"
   ]
  },
  {
   "cell_type": "code",
   "execution_count": null,
   "metadata": {},
   "outputs": [],
   "source": []
  },
  {
   "cell_type": "code",
   "execution_count": 2,
   "metadata": {},
   "outputs": [
    {
     "data": {
      "text/plain": [
       "torch.Size([100])"
      ]
     },
     "execution_count": 2,
     "metadata": {},
     "output_type": "execute_result"
    }
   ],
   "source": [
    "import torch\n",
    "import torch.nn as nn\n",
    "import torch.nn.functional as F\n",
    "pdist = nn.PairwiseDistance(p=2)\n",
    "\n",
    "input1 = torch.randn(100, 128)\n",
    "input2 = torch.randn(100, 128)\n",
    "output = pdist(input1, input2)\n",
    "output.shape"
   ]
  },
  {
   "cell_type": "code",
   "execution_count": 3,
   "metadata": {},
   "outputs": [],
   "source": [
    "input1 = torch.randn(100, 128)*100\n",
    "input2 = torch.randn(100, 128)*100"
   ]
  },
  {
   "cell_type": "code",
   "execution_count": 29,
   "metadata": {},
   "outputs": [],
   "source": [
    "input1 = torch.nn.functional.normalize(input1, dim=1)"
   ]
  },
  {
   "cell_type": "code",
   "execution_count": 30,
   "metadata": {},
   "outputs": [
    {
     "data": {
      "text/plain": [
       "tensor(1.3985)"
      ]
     },
     "execution_count": 30,
     "metadata": {},
     "output_type": "execute_result"
    }
   ],
   "source": [
    "import torch\n",
    "import torch.nn as nn\n",
    "output = torch.cdist(input1, input1)\n",
    "output.mean()"
   ]
  },
  {
   "cell_type": "code",
   "execution_count": 31,
   "metadata": {},
   "outputs": [
    {
     "data": {
      "text/plain": [
       "tensor(0.0104)"
      ]
     },
     "execution_count": 31,
     "metadata": {},
     "output_type": "execute_result"
    }
   ],
   "source": [
    "dist_mat = torch.matmul(input1, input1.t())\n",
    "dist_mat.mean()"
   ]
  },
  {
   "cell_type": "code",
   "execution_count": 32,
   "metadata": {},
   "outputs": [],
   "source": [
    "def euclidean_dist(x, y):\n",
    "    m, n = x.size(0), y.size(0)\n",
    "    xx = torch.pow(x, 2).sum(1, keepdim=True).expand(m, n)\n",
    "    yy = torch.pow(y, 2).sum(1, keepdim=True).expand(n, m).t()\n",
    "    dist = xx + yy - 2 * torch.matmul(x, y.t())\n",
    "    dist = dist.sqrt()  # for numerical stability\n",
    "    return dist"
   ]
  },
  {
   "cell_type": "code",
   "execution_count": 33,
   "metadata": {},
   "outputs": [
    {
     "data": {
      "text/plain": [
       "tensor(1600.3169)"
      ]
     },
     "execution_count": 33,
     "metadata": {},
     "output_type": "execute_result"
    }
   ],
   "source": [
    "import torch\n",
    "import torch.nn as nn\n",
    "\n",
    "input1 = torch.randn(100, 128)*100\n",
    "input2 = torch.randn(100, 128)*100\n",
    "output = euclidean_dist(input1, input2)\n",
    "output.mean()"
   ]
  },
  {
   "cell_type": "code",
   "execution_count": 34,
   "metadata": {},
   "outputs": [
    {
     "data": {
      "text/plain": [
       "torch.Size([100])"
      ]
     },
     "execution_count": 34,
     "metadata": {},
     "output_type": "execute_result"
    }
   ],
   "source": [
    "import torch\n",
    "import torch.nn as nn\n",
    "\n",
    "input1 = torch.randn(100, 128)*100\n",
    "input2 = torch.randn(100, 128)*100\n",
    "output = F.cosine_similarity(input1, input2)\n",
    "output.shape"
   ]
  },
  {
   "cell_type": "code",
   "execution_count": 2,
   "metadata": {},
   "outputs": [],
   "source": [
    "import torch\n",
    "def euclidean_dist(x, y):\n",
    "    m, n = x.size(0), y.size(0)\n",
    "    xx = torch.pow(x, 2).sum(1, keepdim=True).expand(m, n)\n",
    "    yy = torch.pow(y, 2).sum(1, keepdim=True).expand(n, m).t()\n",
    "    dist = xx + yy - 2 * torch.matmul(x, y.t())\n",
    "    dist = dist.clamp(min=1e-12).sqrt()  # for numerical stability\n",
    "    return dist"
   ]
  },
  {
   "cell_type": "code",
   "execution_count": 4,
   "metadata": {},
   "outputs": [
    {
     "data": {
      "text/plain": [
       "tensor(15.8574)"
      ]
     },
     "execution_count": 4,
     "metadata": {},
     "output_type": "execute_result"
    }
   ],
   "source": [
    "input1 = torch.randn(100, 128)\n",
    "euclidean_dist(input1, input1).mean()"
   ]
  },
  {
   "cell_type": "code",
   "execution_count": 13,
   "metadata": {},
   "outputs": [
    {
     "data": {
      "text/plain": [
       "tensor(15.8574)"
      ]
     },
     "execution_count": 13,
     "metadata": {},
     "output_type": "execute_result"
    }
   ],
   "source": [
    "torch.cdist(input1, input1).mean()"
   ]
  },
  {
   "cell_type": "code",
   "execution_count": 11,
   "metadata": {},
   "outputs": [
    {
     "data": {
      "text/plain": [
       "tensor(15.8574)"
      ]
     },
     "execution_count": 11,
     "metadata": {},
     "output_type": "execute_result"
    }
   ],
   "source": [
    "n = input1.shape[0]\n",
    "# Compute pairwise distance, replace by the official when merged\n",
    "# ||a-b||^2 = ||a||^2 -2<a,b> + ||b||^2\n",
    "dist = torch.pow(input1, 2).sum(dim=1, keepdim=True).expand(n, n)\n",
    "dist = dist + dist.t()\n",
    "# dist.addmm_(1, -2, inputs, inputs.t())\n",
    "dist = torch.addmm(input=dist, mat1=input1, mat2=input1.t(), alpha=-2, beta=1)\n",
    "dist = dist.clamp(min=1e-12).sqrt()  # for numerical stability\n",
    "\n",
    "dist.mean()"
   ]
  },
  {
   "cell_type": "code",
   "execution_count": null,
   "metadata": {},
   "outputs": [],
   "source": []
  }
 ],
 "metadata": {
  "interpreter": {
   "hash": "7c7a76c8265d47c17d5818f4f3eec0ba94be384b7470e37644b3c2ac337fea0b"
  },
  "kernelspec": {
   "display_name": "Python 3.8.9 64-bit ('rep_reid': pyenv)",
   "name": "python3"
  },
  "language_info": {
   "codemirror_mode": {
    "name": "ipython",
    "version": 3
   },
   "file_extension": ".py",
   "mimetype": "text/x-python",
   "name": "python",
   "nbconvert_exporter": "python",
   "pygments_lexer": "ipython3",
   "version": "3.8.9"
  },
  "orig_nbformat": 2
 },
 "nbformat": 4,
 "nbformat_minor": 2
}
